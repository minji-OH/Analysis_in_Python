{
 "cells": [
  {
   "cell_type": "code",
   "execution_count": 38,
   "metadata": {},
   "outputs": [],
   "source": [
    "#!pip install yfinance\n",
    "import numpy as np\n",
    "import pandas as pd \n",
    "import yfinance as yf # Yahoo finance 에서 제공하는 데이터에 접근 가능"
   ]
  },
  {
   "cell_type": "code",
   "execution_count": 39,
   "metadata": {
    "scrolled": true
   },
   "outputs": [],
   "source": [
    "# 아마존의 2013년 부터 2018년까지 일일 주가를 학습 데이터로\n",
    "# 2019년 데이터를 테스트 데이터로 사용 \n",
    "\n",
    "AMZN = yf.download('AMZN', \n",
    "                  start = '2013-01-01',\n",
    "                  end = '2019-12-31',\n",
    "                  progress = False)\n",
    "\n",
    "# 수정종가(Adj close), 시가(Open), 최고가(High), 최저가(Low), 종가(Close). 거래량(Volume)\n",
    "all_data = AMZN[['Adj Close', 'Open', 'High','Low',\"Close\",\"Volume\"]].round(2)"
   ]
  },
  {
   "cell_type": "code",
   "execution_count": 40,
   "metadata": {},
   "outputs": [],
   "source": [
    "def ts_train_test_normalize(all_data, time_steps, for_periods):\n",
    "    \"\"\"\n",
    "    input: \n",
    "        data: dataframe with dates and price data\n",
    "    output: \n",
    "        X_train, y_train: data from 2013/1/1-2018/12/31 \n",
    "        X_test : data from 2019- \n",
    "        sc :     insantiated MinMaxScaler object fit to the training data \n",
    "    \"\"\"\n",
    "    # create training and test set \n",
    "    ts_train = all_data[:'2018'].iloc[:,0:1].values\n",
    "    ts_test = all_data['2019':].iloc[:,0:1].values \n",
    "    ts_train_len = len(ts_train)\n",
    "    ts_test_len = len(ts_test)\n",
    "    \n",
    "    # scale the data \n",
    "    from sklearn.preprocessing import MinMaxScaler \n",
    "    sc = MinMaxScaler(feature_range=(0,1))\n",
    "    ts_train_scaled = sc.fit_transform(ts_train)\n",
    "    \n",
    "    # create training data of s samples and t time steps \n",
    "    X_train = [] \n",
    "    y_train = [] \n",
    "    for i in range(time_steps, ts_train_len-1):\n",
    "        X_train.append(ts_train_scaled[i-time_steps:i, 0])\n",
    "        y_train.append(ts_train_scaled[i:i+for_periods, 0])\n",
    "    X_train, y_train = np.array(X_train), np.array(y_train)\n",
    "    \n",
    "    # Reshaping X_train for efficient modelling \n",
    "    X_train = np.reshape(X_train, (X_train.shape[0], X_train.shape[1], 1 ))\n",
    "    \n",
    "    inputs = pd.concat((all_data[\"Adj Close\"][:'2018'], all_data[\"Adj Close\"]['2019':]), axis=0).values\n",
    "    inputs = inputs[len(inputs)-len(ts_test)-time_steps:]\n",
    "    inputs = inputs.reshape(-1,1)\n",
    "    inputs = sc.transform(inputs)\n",
    "    \n",
    "    # Preparing X_test \n",
    "    X_test = [] \n",
    "    for i in range(time_steps, ts_test_len + time_steps - for_periods):\n",
    "        X_test.append(inputs[i-time_steps:i,0])\n",
    "    \n",
    "    X_test = np.array(X_test)\n",
    "    X_test = np.reshape(X_test, (X_test.shape[0], X_test.shape[1], 1))\n",
    "    \n",
    "    return X_train, y_train , X_test, sc "
   ]
  },
  {
   "cell_type": "code",
   "execution_count": 42,
   "metadata": {},
   "outputs": [],
   "source": [
    "def LSTM_model(X_train, y_train, X_test, sc):\n",
    "    # create a model\n",
    "    from keras.models import Sequential\n",
    "    from keras.layers import Dense, SimpleRNN, GRU, LSTM\n",
    "    from keras.optimizers import SGD\n",
    "    \n",
    "    # The LSTM architecture\n",
    "    my_LSTM_model = Sequential()\n",
    "    my_LSTM_model.add(LSTM(units = 50, \n",
    "                           return_sequences = True, \n",
    "                           input_shape = (X_train.shape[1],1), \n",
    "                           activation = 'tanh'))\n",
    "    my_LSTM_model.add(LSTM(units = 50, activation = 'tanh'))\n",
    "    my_LSTM_model.add(Dense(units=2))\n",
    "    \n",
    "    # Compiling \n",
    "    my_LSTM_model.compile(optimizer = SGD(lr = 0.01, decay = 1e-7, \n",
    "                                         momentum = 0.9, nesterov = False),\n",
    "                         loss = 'mean_squared_error')\n",
    "    \n",
    "    # Fitting to the training set \n",
    "    my_LSTM_model.fit(X_train, y_train, epochs = 50, batch_size = 150, verbose = 0)\n",
    "    \n",
    "    LSTM_prediction = my_LSTM_model.predict(X_test)\n",
    "    LSTM_prediction = sc.inverse_transform(LSTM_prediction)\n",
    "    \n",
    "    return my_LSTM_model, LSTM_prediction "
   ]
  },
  {
   "cell_type": "code",
   "execution_count": 43,
   "metadata": {},
   "outputs": [],
   "source": [
    "def actual_pred_plot(preds):\n",
    "    \"\"\"\n",
    "    Plot the actual vs predition\n",
    "    \"\"\"\n",
    "    actual_pred = pd.DataFrame(columns = ['Adj. Close', 'prediction'])\n",
    "    actual_pred['Adj. Close'] = all_data.loc['2019':,'Adj Close'][0:len(preds)]\n",
    "    actual_pred['prediction'] = preds[:,0]\n",
    "    \n",
    "    from keras.metrics import MeanSquaredError \n",
    "    m = MeanSquaredError()\n",
    "    m.update_state(np.array(actual_pred['Adj. Close']), np.array(actual_pred['prediction']))\n",
    "    \n",
    "    return (m.result().numpy(), actual_pred.plot())"
   ]
  },
  {
   "cell_type": "code",
   "execution_count": 44,
   "metadata": {},
   "outputs": [],
   "source": [
    "y_pred = pd.DataFrame(LSTM_prediction[:, 0])\n",
    "y_test=all_data.loc['2019':,'Adj Close'][0:len(LSTM_prediction)]\n",
    "y_test.reset_index(drop=True, inplace=True)"
   ]
  },
  {
   "cell_type": "code",
   "execution_count": 45,
   "metadata": {},
   "outputs": [],
   "source": [
    "from sklearn.metrics import mean_absolute_error, mean_squared_error, mean_squared_log_error, r2_score\n",
    "\n",
    "def confirm_result(y_test, y_pred):\n",
    "    MAE = mean_absolute_error(y_test, y_pred)\n",
    "    RMSE = np.sqrt(mean_squared_error(y_test, y_pred))\n",
    "    MSLE = mean_squared_log_error(y_test, y_pred)\n",
    "    RMSLE = np.sqrt(mean_squared_log_error(y_test, y_pred))\n",
    "    R2 = r2_score(y_test, y_pred)\n",
    "    \n",
    "    pd.options.display.float_format = '{:.5f}'.format\n",
    "    Result = pd.DataFrame(data=[MAE,RMSE, RMSLE, R2],\n",
    "                         index = ['MAE','RMSE', 'RMSLE', 'R2'],\n",
    "                         columns=['Results'])\n",
    "    return Result"
   ]
  },
  {
   "cell_type": "code",
   "execution_count": 46,
   "metadata": {},
   "outputs": [],
   "source": [
    "def GRU_model(X_train, y_train, X_test, sc):\n",
    "    # create a model \n",
    "    from keras.models import Sequential \n",
    "    from keras.layers import Dense, SimpleRNN, GRU\n",
    "    from keras.optimizers import SGD \n",
    "    \n",
    "    # The GRU architecture \n",
    "    my_GRU_model = Sequential()\n",
    "    my_GRU_model.add(GRU(units = 50, \n",
    "                         return_sequences = True, \n",
    "                         input_shape = (X_train.shape[1],1), \n",
    "                         activation = 'tanh'))\n",
    "    my_GRU_model.add(GRU(units = 50, \n",
    "                         activation = 'tanh'))\n",
    "    my_GRU_model.add(Dense(units = 2))\n",
    "    \n",
    "    # Compiling the RNN \n",
    "    my_GRU_model.compile(optimizer = SGD(lr = 0.01, decay = 1e-7, \n",
    "                                         momentum = 0.9, nesterov = False), \n",
    "                         loss = 'mean_squared_error')\n",
    "    \n",
    "    # Fitting to the trainig set \n",
    "    my_GRU_model.fit(X_train, y_train, epochs = 50, batch_size = 150, verbose = 0)\n",
    "    \n",
    "    GRU_prediction = my_GRU_model.predict(X_test)\n",
    "    GRU_prediction = sc.inverse_transform(GRU_prediction)\n",
    "    \n",
    "    return my_GRU_model, GRU_prediction "
   ]
  },
  {
   "cell_type": "code",
   "execution_count": 47,
   "metadata": {},
   "outputs": [],
   "source": [
    "y_pred_gru = pd.DataFrame(GRU_prediction[:, 0])\n",
    "y_test_gru=all_data.loc['2019':,'Adj Close'][0:len(GRU_prediction)]\n",
    "y_test_gru.reset_index(drop=True, inplace=True)"
   ]
  }
 ],
 "metadata": {
  "kernelspec": {
   "display_name": "Python 3",
   "language": "python",
   "name": "python3"
  },
  "language_info": {
   "codemirror_mode": {
    "name": "ipython",
    "version": 3
   },
   "file_extension": ".py",
   "mimetype": "text/x-python",
   "name": "python",
   "nbconvert_exporter": "python",
   "pygments_lexer": "ipython3",
   "version": "3.7.6"
  }
 },
 "nbformat": 4,
 "nbformat_minor": 4
}
